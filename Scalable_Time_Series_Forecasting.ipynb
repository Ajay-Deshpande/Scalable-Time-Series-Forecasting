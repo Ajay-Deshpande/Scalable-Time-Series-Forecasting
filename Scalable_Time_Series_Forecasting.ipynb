{
  "nbformat": 4,
  "nbformat_minor": 0,
  "metadata": {
    "colab": {
      "provenance": []
    },
    "kernelspec": {
      "name": "python3",
      "display_name": "Python 3"
    },
    "language_info": {
      "name": "python"
    }
  },
  "cells": [
    {
      "cell_type": "code",
      "execution_count": 1,
      "metadata": {
        "colab": {
          "base_uri": "https://localhost:8080/"
        },
        "id": "DMtqLWaOHsad",
        "outputId": "7736ec1a-536a-4ce9-d1e8-d26ef51f4222"
      },
      "outputs": [
        {
          "output_type": "stream",
          "name": "stdout",
          "text": [
            "Requirement already satisfied: kaggle in /usr/local/lib/python3.11/dist-packages (1.6.17)\n",
            "Requirement already satisfied: prophet in /usr/local/lib/python3.11/dist-packages (1.1.6)\n",
            "Requirement already satisfied: six>=1.10 in /usr/local/lib/python3.11/dist-packages (from kaggle) (1.17.0)\n",
            "Requirement already satisfied: certifi>=2023.7.22 in /usr/local/lib/python3.11/dist-packages (from kaggle) (2025.1.31)\n",
            "Requirement already satisfied: python-dateutil in /usr/local/lib/python3.11/dist-packages (from kaggle) (2.8.2)\n",
            "Requirement already satisfied: requests in /usr/local/lib/python3.11/dist-packages (from kaggle) (2.32.3)\n",
            "Requirement already satisfied: tqdm in /usr/local/lib/python3.11/dist-packages (from kaggle) (4.67.1)\n",
            "Requirement already satisfied: python-slugify in /usr/local/lib/python3.11/dist-packages (from kaggle) (8.0.4)\n",
            "Requirement already satisfied: urllib3 in /usr/local/lib/python3.11/dist-packages (from kaggle) (2.3.0)\n",
            "Requirement already satisfied: bleach in /usr/local/lib/python3.11/dist-packages (from kaggle) (6.2.0)\n",
            "Requirement already satisfied: cmdstanpy>=1.0.4 in /usr/local/lib/python3.11/dist-packages (from prophet) (1.2.5)\n",
            "Requirement already satisfied: numpy>=1.15.4 in /usr/local/lib/python3.11/dist-packages (from prophet) (1.26.4)\n",
            "Requirement already satisfied: matplotlib>=2.0.0 in /usr/local/lib/python3.11/dist-packages (from prophet) (3.10.0)\n",
            "Requirement already satisfied: pandas>=1.0.4 in /usr/local/lib/python3.11/dist-packages (from prophet) (2.2.2)\n",
            "Requirement already satisfied: holidays<1,>=0.25 in /usr/local/lib/python3.11/dist-packages (from prophet) (0.67)\n",
            "Requirement already satisfied: importlib-resources in /usr/local/lib/python3.11/dist-packages (from prophet) (6.5.2)\n",
            "Requirement already satisfied: stanio<2.0.0,>=0.4.0 in /usr/local/lib/python3.11/dist-packages (from cmdstanpy>=1.0.4->prophet) (0.5.1)\n",
            "Requirement already satisfied: contourpy>=1.0.1 in /usr/local/lib/python3.11/dist-packages (from matplotlib>=2.0.0->prophet) (1.3.1)\n",
            "Requirement already satisfied: cycler>=0.10 in /usr/local/lib/python3.11/dist-packages (from matplotlib>=2.0.0->prophet) (0.12.1)\n",
            "Requirement already satisfied: fonttools>=4.22.0 in /usr/local/lib/python3.11/dist-packages (from matplotlib>=2.0.0->prophet) (4.56.0)\n",
            "Requirement already satisfied: kiwisolver>=1.3.1 in /usr/local/lib/python3.11/dist-packages (from matplotlib>=2.0.0->prophet) (1.4.8)\n",
            "Requirement already satisfied: packaging>=20.0 in /usr/local/lib/python3.11/dist-packages (from matplotlib>=2.0.0->prophet) (24.2)\n",
            "Requirement already satisfied: pillow>=8 in /usr/local/lib/python3.11/dist-packages (from matplotlib>=2.0.0->prophet) (11.1.0)\n",
            "Requirement already satisfied: pyparsing>=2.3.1 in /usr/local/lib/python3.11/dist-packages (from matplotlib>=2.0.0->prophet) (3.2.1)\n",
            "Requirement already satisfied: pytz>=2020.1 in /usr/local/lib/python3.11/dist-packages (from pandas>=1.0.4->prophet) (2025.1)\n",
            "Requirement already satisfied: tzdata>=2022.7 in /usr/local/lib/python3.11/dist-packages (from pandas>=1.0.4->prophet) (2025.1)\n",
            "Requirement already satisfied: webencodings in /usr/local/lib/python3.11/dist-packages (from bleach->kaggle) (0.5.1)\n",
            "Requirement already satisfied: text-unidecode>=1.3 in /usr/local/lib/python3.11/dist-packages (from python-slugify->kaggle) (1.3)\n",
            "Requirement already satisfied: charset-normalizer<4,>=2 in /usr/local/lib/python3.11/dist-packages (from requests->kaggle) (3.4.1)\n",
            "Requirement already satisfied: idna<4,>=2.5 in /usr/local/lib/python3.11/dist-packages (from requests->kaggle) (3.10)\n"
          ]
        }
      ],
      "source": [
        "!pip install kaggle prophet"
      ]
    },
    {
      "cell_type": "code",
      "source": [
        "!chmod 600 /content/kaggle.json\n",
        "!mkdir -p ~/.kaggle\n",
        "!mv kaggle.json ~/.kaggle/kaggle.json"
      ],
      "metadata": {
        "id": "kgYz1wyYIjXB"
      },
      "execution_count": 2,
      "outputs": []
    },
    {
      "cell_type": "code",
      "source": [
        "!kaggle competitions download -c demand-forecasting-kernels-only"
      ],
      "metadata": {
        "colab": {
          "base_uri": "https://localhost:8080/"
        },
        "id": "XodFedtHIKce",
        "outputId": "219f234d-a47a-4ddc-9066-296d2427900b"
      },
      "execution_count": 3,
      "outputs": [
        {
          "output_type": "stream",
          "name": "stdout",
          "text": [
            "Downloading demand-forecasting-kernels-only.zip to /content\n",
            "\r  0% 0.00/3.29M [00:00<?, ?B/s]\n",
            "\r100% 3.29M/3.29M [00:00<00:00, 86.2MB/s]\n"
          ]
        }
      ]
    },
    {
      "cell_type": "code",
      "source": [
        "!unzip demand-forecasting-kernels-only.zip"
      ],
      "metadata": {
        "colab": {
          "base_uri": "https://localhost:8080/"
        },
        "id": "KCO0veFIInDX",
        "outputId": "9c8ee649-616c-49f4-d5f9-9d1151446be9"
      },
      "execution_count": 4,
      "outputs": [
        {
          "output_type": "stream",
          "name": "stdout",
          "text": [
            "Archive:  demand-forecasting-kernels-only.zip\n",
            "  inflating: sample_submission.csv   \n",
            "  inflating: test.csv                \n",
            "  inflating: train.csv               \n"
          ]
        }
      ]
    },
    {
      "cell_type": "code",
      "source": [
        "import pandas as pd\n",
        "from pyspark.sql import SparkSession\n",
        "from pyspark.sql.functions import pandas_udf, PandasUDFType\n",
        "from pyspark.sql.types import *\n",
        "from prophet import Prophet"
      ],
      "metadata": {
        "id": "Uq5AP3jaI4TN"
      },
      "execution_count": 16,
      "outputs": []
    },
    {
      "cell_type": "code",
      "source": [
        "# Import the csv file and explore it\n",
        "sales_pd = pd.read_csv('train.csv').rename(columns = {'sales' : 'y', 'date' : 'ds'})\n",
        "\n",
        "# Convert ds to datetime\n",
        "sales_pd['ds'] = pd.to_datetime(sales_pd['ds'])"
      ],
      "metadata": {
        "id": "sdDgue0mJ6Jz"
      },
      "execution_count": 17,
      "outputs": []
    },
    {
      "cell_type": "code",
      "source": [
        "sales_pd[['item', 'store']].nunique()"
      ],
      "metadata": {
        "colab": {
          "base_uri": "https://localhost:8080/",
          "height": 146
        },
        "id": "RPB7rYwVpyKf",
        "outputId": "ab20c2db-2034-4a37-bb06-8603b3b5768e"
      },
      "execution_count": 18,
      "outputs": [
        {
          "output_type": "execute_result",
          "data": {
            "text/plain": [
              "item     50\n",
              "store    10\n",
              "dtype: int64"
            ],
            "text/html": [
              "<div>\n",
              "<style scoped>\n",
              "    .dataframe tbody tr th:only-of-type {\n",
              "        vertical-align: middle;\n",
              "    }\n",
              "\n",
              "    .dataframe tbody tr th {\n",
              "        vertical-align: top;\n",
              "    }\n",
              "\n",
              "    .dataframe thead th {\n",
              "        text-align: right;\n",
              "    }\n",
              "</style>\n",
              "<table border=\"1\" class=\"dataframe\">\n",
              "  <thead>\n",
              "    <tr style=\"text-align: right;\">\n",
              "      <th></th>\n",
              "      <th>0</th>\n",
              "    </tr>\n",
              "  </thead>\n",
              "  <tbody>\n",
              "    <tr>\n",
              "      <th>item</th>\n",
              "      <td>50</td>\n",
              "    </tr>\n",
              "    <tr>\n",
              "      <th>store</th>\n",
              "      <td>10</td>\n",
              "    </tr>\n",
              "  </tbody>\n",
              "</table>\n",
              "</div><br><label><b>dtype:</b> int64</label>"
            ]
          },
          "metadata": {},
          "execution_count": 18
        }
      ]
    },
    {
      "cell_type": "code",
      "source": [
        "# Create a larger data frame\n",
        "sales_pd_10k = pd.DataFrame()\n",
        "for i in range(0,10):\n",
        "    temp_pd = sales_pd.copy()\n",
        "    ip1 = i + 1\n",
        "    temp_pd['store'] = temp_pd['store'] + (10 * i)\n",
        "    sales_pd_10k = pd.concat([sales_pd_10k, temp_pd])\n",
        "    print('added data frame', ip1)"
      ],
      "metadata": {
        "colab": {
          "base_uri": "https://localhost:8080/"
        },
        "id": "hvMZYqvtp63_",
        "outputId": "68cd04f0-af6e-43d4-b6f4-e69acf8e58a5"
      },
      "execution_count": 19,
      "outputs": [
        {
          "output_type": "stream",
          "name": "stdout",
          "text": [
            "added data frame 1\n",
            "added data frame 2\n",
            "added data frame 3\n",
            "added data frame 4\n",
            "added data frame 5\n",
            "added data frame 6\n",
            "added data frame 7\n",
            "added data frame 8\n",
            "added data frame 9\n",
            "added data frame 10\n"
          ]
        }
      ]
    },
    {
      "cell_type": "code",
      "source": [
        "sales_pd_10k[['item', 'store']].nunique()"
      ],
      "metadata": {
        "colab": {
          "base_uri": "https://localhost:8080/",
          "height": 146
        },
        "id": "3hBC4v6Yp9Lg",
        "outputId": "7422b13c-8b85-4462-d459-cb08e61d0d7b"
      },
      "execution_count": 20,
      "outputs": [
        {
          "output_type": "execute_result",
          "data": {
            "text/plain": [
              "item      50\n",
              "store    100\n",
              "dtype: int64"
            ],
            "text/html": [
              "<div>\n",
              "<style scoped>\n",
              "    .dataframe tbody tr th:only-of-type {\n",
              "        vertical-align: middle;\n",
              "    }\n",
              "\n",
              "    .dataframe tbody tr th {\n",
              "        vertical-align: top;\n",
              "    }\n",
              "\n",
              "    .dataframe thead th {\n",
              "        text-align: right;\n",
              "    }\n",
              "</style>\n",
              "<table border=\"1\" class=\"dataframe\">\n",
              "  <thead>\n",
              "    <tr style=\"text-align: right;\">\n",
              "      <th></th>\n",
              "      <th>0</th>\n",
              "    </tr>\n",
              "  </thead>\n",
              "  <tbody>\n",
              "    <tr>\n",
              "      <th>item</th>\n",
              "      <td>50</td>\n",
              "    </tr>\n",
              "    <tr>\n",
              "      <th>store</th>\n",
              "      <td>100</td>\n",
              "    </tr>\n",
              "  </tbody>\n",
              "</table>\n",
              "</div><br><label><b>dtype:</b> int64</label>"
            ]
          },
          "metadata": {},
          "execution_count": 20
        }
      ]
    },
    {
      "cell_type": "code",
      "source": [
        "spark = SparkSession.builder.appName('time_series_pipeline').getOrCreate()\n",
        "\n",
        "# Read the csv file\n",
        "sales_df = spark.createDataFrame(sales_pd_10k)\n",
        "\n",
        "# Display the schema\n",
        "sales_df.printSchema()"
      ],
      "metadata": {
        "id": "33gu0Ei9J-03",
        "colab": {
          "base_uri": "https://localhost:8080/"
        },
        "outputId": "8f31360c-bb8e-4ffa-abc0-cbb370545161"
      },
      "execution_count": 22,
      "outputs": [
        {
          "output_type": "stream",
          "name": "stdout",
          "text": [
            "root\n",
            " |-- ds: timestamp (nullable = true)\n",
            " |-- store: long (nullable = true)\n",
            " |-- item: long (nullable = true)\n",
            " |-- y: long (nullable = true)\n",
            "\n"
          ]
        }
      ]
    },
    {
      "cell_type": "code",
      "source": [
        "# Partition the data\n",
        "sales_df.createOrReplaceTempView(\"item_sales\")\n",
        "sql = \"SELECT * FROM item_sales\"\n",
        "sales_part = (spark.sql(sql)\\\n",
        "   .repartition(spark.sparkContext.defaultParallelism,\n",
        "   ['store', 'item'])).cache()\n",
        "sales_part.explain()"
      ],
      "metadata": {
        "colab": {
          "base_uri": "https://localhost:8080/"
        },
        "id": "pGJOPEY7qJxB",
        "outputId": "4ad7edc8-7366-44ba-9a0e-b6f7533984f0"
      },
      "execution_count": 23,
      "outputs": [
        {
          "output_type": "stream",
          "name": "stdout",
          "text": [
            "== Physical Plan ==\n",
            "AdaptiveSparkPlan isFinalPlan=false\n",
            "+- InMemoryTableScan [ds#115, store#116L, item#117L, y#118L]\n",
            "      +- InMemoryRelation [ds#115, store#116L, item#117L, y#118L], StorageLevel(disk, memory, deserialized, 1 replicas)\n",
            "            +- AdaptiveSparkPlan isFinalPlan=false\n",
            "               +- Exchange hashpartitioning(store#116L, item#117L, 2), REPARTITION_BY_NUM, [plan_id=38]\n",
            "                  +- Scan ExistingRDD[ds#115,store#116L,item#117L,y#118L]\n",
            "\n",
            "\n"
          ]
        }
      ]
    },
    {
      "cell_type": "code",
      "source": [
        "# Define a schema\n",
        "schema = StructType([\n",
        "                     StructField('store', IntegerType()),\n",
        "                     StructField('item', IntegerType()),\n",
        "                     StructField('ds', TimestampType()),\n",
        "                     StructField('y', FloatType()),\n",
        "                     StructField('yhat', DoubleType()),\n",
        "                     StructField('yhat_upper', DoubleType()),\n",
        "                     StructField('yhat_lower', DoubleType()),\n",
        "                     ])"
      ],
      "metadata": {
        "id": "O-xvzrb0qNiD"
      },
      "execution_count": 24,
      "outputs": []
    },
    {
      "cell_type": "code",
      "source": [
        "# define the Pandas UDF\n",
        "@pandas_udf(schema, PandasUDFType.GROUPED_MAP)\n",
        "def apply_model(store_pd):\n",
        "\n",
        "  # instantiate the model and set parameters\n",
        "  model = Prophet(\n",
        "      interval_width=0.95,\n",
        "      growth='linear',\n",
        "      daily_seasonality=False,\n",
        "      weekly_seasonality=True,\n",
        "      yearly_seasonality=True,\n",
        "      seasonality_mode='multiplicative'\n",
        "  )\n",
        "\n",
        "  # fit the model to historical data\n",
        "  model.fit(store_pd)\n",
        "\n",
        "  # Create a data frame that lists 90 dates starting from Jan 1 2018\n",
        "  future = model.make_future_dataframe(\n",
        "      periods=90,\n",
        "      freq='d',\n",
        "      include_history=True)\n",
        "\n",
        "  # Out of sample prediction\n",
        "  future = model.predict(future)\n",
        "\n",
        "  # Create a data frame that contains store, item, y, and yhat\n",
        "  f_pd = future[['ds', 'yhat', 'yhat_upper', 'yhat_lower']]\n",
        "  st_pd = store_pd[['ds', 'store', 'item', 'y']]\n",
        "  result_pd = f_pd.join(st_pd.set_index('ds'), on='ds', how='left')\n",
        "\n",
        "  # fill store and item\n",
        "  result_pd['store'] = store_pd['store'].iloc[0]\n",
        "  result_pd['item'] = store_pd['item'].iloc[0]\n",
        "  #result_pd['store'] = store_pd['store'].fillna(method='ffill')\n",
        "  #result_pd['item'] = store_pd['item'].fillna(method='ffill')\n",
        "  return result_pd[['store', 'item', 'ds', 'y', 'yhat',\n",
        "                    'yhat_upper', 'yhat_lower']]"
      ],
      "metadata": {
        "id": "XKkXl59Zs2rI"
      },
      "execution_count": 25,
      "outputs": []
    },
    {
      "cell_type": "code",
      "source": [
        "# Apply the function to all store-items\n",
        "results = sales_part.groupby(['store', 'item']).apply(apply_model)\n",
        "\n",
        "# Print the results - calculate the time to run\n",
        "import timeit\n",
        "start = timeit.default_timer()\n",
        "results.show()\n",
        "stop = timeit.default_timer()"
      ],
      "metadata": {
        "colab": {
          "base_uri": "https://localhost:8080/"
        },
        "id": "LPidpBEwtzz2",
        "outputId": "a98ebf74-afba-4510-fc3b-f2fedd6a95a8"
      },
      "execution_count": 26,
      "outputs": [
        {
          "output_type": "stream",
          "name": "stderr",
          "text": [
            "/usr/local/lib/python3.11/dist-packages/pyspark/sql/pandas/group_ops.py:104: UserWarning: It is preferred to use 'applyInPandas' over this API. This API will be deprecated in the future releases. See SPARK-28264 for more details.\n",
            "  warnings.warn(\n"
          ]
        },
        {
          "output_type": "stream",
          "name": "stdout",
          "text": [
            "+-----+----+-------------------+----+-------------------+------------------+-------------------+\n",
            "|store|item|                 ds|   y|               yhat|        yhat_upper|         yhat_lower|\n",
            "+-----+----+-------------------+----+-------------------+------------------+-------------------+\n",
            "|    1|   1|2013-01-01 00:00:00|13.0|-1.5951843346568653| 9.896378787292104|-11.820722689033868|\n",
            "|    1|   1|2013-01-02 00:00:00|11.0|  3.928086711757573|14.454911526656364| -6.770645336481006|\n",
            "|    1|   1|2013-01-03 00:00:00|14.0|0.17623537812386267|11.245061742012211|-10.695218586073745|\n",
            "|    1|   1|2013-01-04 00:00:00|13.0| 2.0189878876434495|13.045530688669562| -8.905617669494742|\n",
            "|    1|   1|2013-01-05 00:00:00|10.0| 7.1759896636448035| 18.09532212101434| -3.210769523043518|\n",
            "|    1|   1|2013-01-06 00:00:00|12.0|  8.201119988558144| 19.49126087097075|  -3.16863296253029|\n",
            "|    1|   1|2013-01-07 00:00:00|10.0| 2.2416033619636706| 12.63090337054053| -9.049887532707741|\n",
            "|    1|   1|2013-01-08 00:00:00| 9.0|  2.497338453634479|13.145031569931062| -7.898776009007118|\n",
            "|    1|   1|2013-01-09 00:00:00|12.0|  8.211645943099214| 18.86308709802133| -2.363253656045059|\n",
            "|    1|   1|2013-01-10 00:00:00| 9.0|   4.22246718906072|14.739729792632685| -6.822172678890497|\n",
            "|    1|   1|2013-01-11 00:00:00| 9.0|  5.964188578443476| 16.45116800460934| -5.226356974008256|\n",
            "|    1|   1|2013-01-12 00:00:00| 7.0| 11.069024406343456| 21.68391422625133|0.40969150815552013|\n",
            "|    1|   1|2013-01-13 00:00:00|10.0| 11.814741252645089| 22.43513089860789| 1.0184411543202296|\n",
            "|    1|   1|2013-01-14 00:00:00|12.0|  5.250053552645615|15.464469336379876|-5.9831466306310075|\n",
            "|    1|   1|2013-01-15 00:00:00| 5.0|  5.071244475129382|15.464129075101843| -5.620244787205824|\n",
            "|    1|   1|2013-01-16 00:00:00| 7.0| 10.497929540016669|20.671062988964856|-0.8214089483344761|\n",
            "|    1|   1|2013-01-17 00:00:00|16.0|  5.821317098327045|16.010408477866566| -4.494305285254022|\n",
            "|    1|   1|2013-01-18 00:00:00| 7.0|  7.050906615491135|18.300740812005362|-3.5914054553385593|\n",
            "|    1|   1|2013-01-19 00:00:00|18.0| 11.741182029144559| 23.11128746227781|0.33238751739270617|\n",
            "|    1|   1|2013-01-20 00:00:00|15.0| 11.902496599849073| 22.83179651107321| 1.5777123701344646|\n",
            "+-----+----+-------------------+----+-------------------+------------------+-------------------+\n",
            "only showing top 20 rows\n",
            "\n"
          ]
        }
      ]
    },
    {
      "cell_type": "code",
      "source": [
        "# Print the time it took to forecast 500 models\n",
        "print('Time: ', stop - start)"
      ],
      "metadata": {
        "colab": {
          "base_uri": "https://localhost:8080/"
        },
        "id": "wtqeiA7Gt2rN",
        "outputId": "20a39ccd-ac7b-4c31-d592-7a00fef95f9c"
      },
      "execution_count": 27,
      "outputs": [
        {
          "output_type": "stream",
          "name": "stdout",
          "text": [
            "Time:  40.49791901000003\n"
          ]
        }
      ]
    },
    {
      "cell_type": "code",
      "source": [
        "results.coalesce(1)\n",
        "results.createOrReplaceTempView('forecasted')\n",
        "spark.sql(\"SELECT * FROM forecasted WHERE ITEM==1 AND STORE==1\").show()"
      ],
      "metadata": {
        "colab": {
          "base_uri": "https://localhost:8080/"
        },
        "id": "1RxEo2vCuC2t",
        "outputId": "12e98fea-cde1-4b35-e49c-02e65ba43c2a"
      },
      "execution_count": 28,
      "outputs": [
        {
          "output_type": "stream",
          "name": "stdout",
          "text": [
            "+-----+----+-------------------+----+-------------------+------------------+-------------------+\n",
            "|store|item|                 ds|   y|               yhat|        yhat_upper|         yhat_lower|\n",
            "+-----+----+-------------------+----+-------------------+------------------+-------------------+\n",
            "|    1|   1|2013-01-01 00:00:00|13.0|-1.5951843346568653| 9.896378787292104|-11.820722689033868|\n",
            "|    1|   1|2013-01-02 00:00:00|11.0|  3.928086711757573|14.454911526656364| -6.770645336481006|\n",
            "|    1|   1|2013-01-03 00:00:00|14.0|0.17623537812386267|11.245061742012211|-10.695218586073745|\n",
            "|    1|   1|2013-01-04 00:00:00|13.0| 2.0189878876434495|13.045530688669562| -8.905617669494742|\n",
            "|    1|   1|2013-01-05 00:00:00|10.0| 7.1759896636448035| 18.09532212101434| -3.210769523043518|\n",
            "|    1|   1|2013-01-06 00:00:00|12.0|  8.201119988558144| 19.49126087097075|  -3.16863296253029|\n",
            "|    1|   1|2013-01-07 00:00:00|10.0| 2.2416033619636706| 12.63090337054053| -9.049887532707741|\n",
            "|    1|   1|2013-01-08 00:00:00| 9.0|  2.497338453634479|13.145031569931062| -7.898776009007118|\n",
            "|    1|   1|2013-01-09 00:00:00|12.0|  8.211645943099214| 18.86308709802133| -2.363253656045059|\n",
            "|    1|   1|2013-01-10 00:00:00| 9.0|   4.22246718906072|14.739729792632685| -6.822172678890497|\n",
            "|    1|   1|2013-01-11 00:00:00| 9.0|  5.964188578443476| 16.45116800460934| -5.226356974008256|\n",
            "|    1|   1|2013-01-12 00:00:00| 7.0| 11.069024406343456| 21.68391422625133|0.40969150815552013|\n",
            "|    1|   1|2013-01-13 00:00:00|10.0| 11.814741252645089| 22.43513089860789| 1.0184411543202296|\n",
            "|    1|   1|2013-01-14 00:00:00|12.0|  5.250053552645615|15.464469336379876|-5.9831466306310075|\n",
            "|    1|   1|2013-01-15 00:00:00| 5.0|  5.071244475129382|15.464129075101843| -5.620244787205824|\n",
            "|    1|   1|2013-01-16 00:00:00| 7.0| 10.497929540016669|20.671062988964856|-0.8214089483344761|\n",
            "|    1|   1|2013-01-17 00:00:00|16.0|  5.821317098327045|16.010408477866566| -4.494305285254022|\n",
            "|    1|   1|2013-01-18 00:00:00| 7.0|  7.050906615491135|18.300740812005362|-3.5914054553385593|\n",
            "|    1|   1|2013-01-19 00:00:00|18.0| 11.741182029144559| 23.11128746227781|0.33238751739270617|\n",
            "|    1|   1|2013-01-20 00:00:00|15.0| 11.902496599849073| 22.83179651107321| 1.5777123701344646|\n",
            "+-----+----+-------------------+----+-------------------+------------------+-------------------+\n",
            "only showing top 20 rows\n",
            "\n"
          ]
        }
      ]
    },
    {
      "cell_type": "code",
      "source": [],
      "metadata": {
        "id": "h65AjXryuFdh"
      },
      "execution_count": null,
      "outputs": []
    }
  ]
}